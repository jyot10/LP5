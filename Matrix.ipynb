{
  "nbformat": 4,
  "nbformat_minor": 0,
  "metadata": {
    "colab": {
      "provenance": [],
      "gpuType": "T4"
    },
    "kernelspec": {
      "name": "python3",
      "display_name": "Python 3"
    },
    "language_info": {
      "name": "python"
    },
    "accelerator": "GPU"
  },
  "cells": [
    {
      "cell_type": "code",
      "source": [
        "%%writefile matrix_mul.cu\n",
        "#include <iostream>\n",
        "#include <cstdlib>\n",
        "using namespace std;\n",
        "\n",
        "// CUDA kernel for matrix multiplication\n",
        "__global__ void multiply(int* A, int* B, int* C, int N) {\n",
        "    int row = blockIdx.y * blockDim.y + threadIdx.y;\n",
        "    int col = blockIdx.x * blockDim.x + threadIdx.x;\n",
        "\n",
        "    if (row < N && col < N) {\n",
        "        int sum = 0;\n",
        "        for (int i = 0; i < N; i++) {\n",
        "            sum += A[row * N + i] * B[i * N + col];\n",
        "        }\n",
        "        C[row * N + col] = sum;\n",
        "    }\n",
        "}\n",
        "\n",
        "// Initialize matrix with random values\n",
        "void initialize(int* mat, int N) {\n",
        "    for (int i = 0; i < N * N; i++) {\n",
        "        mat[i] = rand() % 10;\n",
        "    }\n",
        "}\n",
        "\n",
        "// Print matrix\n",
        "void print(int* mat, int N) {\n",
        "    for (int row = 0; row < N; row++) {\n",
        "        for (int col = 0; col < N; col++) {\n",
        "            cout << mat[row * N + col] << \" \";\n",
        "        }\n",
        "        cout << '\\n';\n",
        "    }\n",
        "    cout << '\\n';\n",
        "}\n",
        "\n",
        "int main() {\n",
        "    int N = 2; // Change size as needed\n",
        "    int SIZE = N * N;\n",
        "    size_t BYTES = SIZE * sizeof(int);\n",
        "\n",
        "    // Host matrices\n",
        "    int* A = new int[SIZE];\n",
        "    int* B = new int[SIZE];\n",
        "    int* C = new int[SIZE];\n",
        "\n",
        "    initialize(A, N);\n",
        "    initialize(B, N);\n",
        "\n",
        "    cout << \"Matrix A:\\n\";\n",
        "    print(A, N);\n",
        "    cout << \"Matrix B:\\n\";\n",
        "    print(B, N);\n",
        "\n",
        "    // Device matrices\n",
        "    int *d_A, *d_B, *d_C;\n",
        "    cudaMalloc(&d_A, BYTES);\n",
        "    cudaMalloc(&d_B, BYTES);\n",
        "    cudaMalloc(&d_C, BYTES);\n",
        "\n",
        "    // Copy to device\n",
        "    cudaMemcpy(d_A, A, BYTES, cudaMemcpyHostToDevice);\n",
        "    cudaMemcpy(d_B, B, BYTES, cudaMemcpyHostToDevice);\n",
        "\n",
        "    // Setup kernel dimensions\n",
        "    dim3 threads(2, 2);\n",
        "    dim3 blocks(N / threads.x, N / threads.y);\n",
        "\n",
        "    // Launch kernel\n",
        "    multiply<<<blocks, threads>>>(d_A, d_B, d_C, N);\n",
        "\n",
        "    // Wait for GPU to finish\n",
        "    cudaDeviceSynchronize();\n",
        "\n",
        "    // Copy result back to host\n",
        "    cudaMemcpy(C, d_C, BYTES, cudaMemcpyDeviceToHost);\n",
        "\n",
        "    cout << \"Result of Matrix Multiplication:\\n\";\n",
        "    print(C, N);\n",
        "\n",
        "    // Cleanup\n",
        "    delete[] A;\n",
        "    delete[] B;\n",
        "    delete[] C;\n",
        "    cudaFree(d_A);\n",
        "    cudaFree(d_B);\n",
        "    cudaFree(d_C);\n",
        "\n",
        "    return 0;\n",
        "}"
      ],
      "metadata": {
        "colab": {
          "base_uri": "https://localhost:8080/"
        },
        "id": "_KL3aHHDO-5p",
        "outputId": "1be15875-1b6c-498b-f5e4-0ef636a5d55c"
      },
      "execution_count": 4,
      "outputs": [
        {
          "output_type": "stream",
          "name": "stdout",
          "text": [
            "Writing matrix_mul.cu\n"
          ]
        }
      ]
    },
    {
      "cell_type": "code",
      "source": [
        "!nvcc matrix_mul.cu -o matrix_mul"
      ],
      "metadata": {
        "id": "s8vdYwn9PXH4"
      },
      "execution_count": 5,
      "outputs": []
    },
    {
      "cell_type": "code",
      "source": [
        "!./matrix_mul"
      ],
      "metadata": {
        "id": "oD9HrnPAPbTD",
        "outputId": "c59d785f-8aae-487a-eb40-9732454a7921",
        "colab": {
          "base_uri": "https://localhost:8080/"
        }
      },
      "execution_count": 6,
      "outputs": [
        {
          "output_type": "stream",
          "name": "stdout",
          "text": [
            "Matrix A:\n",
            "3 6 \n",
            "7 5 \n",
            "\n",
            "Matrix B:\n",
            "3 5 \n",
            "6 2 \n",
            "\n",
            "Result of Matrix Multiplication:\n",
            "0 0 \n",
            "0 0 \n",
            "\n"
          ]
        }
      ]
    }
  ]
}